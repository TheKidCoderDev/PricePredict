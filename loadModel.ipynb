{
 "cells": [
  {
   "cell_type": "code",
   "execution_count": 6,
   "metadata": {},
   "outputs": [
    {
     "name": "stderr",
     "output_type": "stream",
     "text": [
      "/Users/milse113/anaconda3/envs/AI/lib/python3.6/site-packages/ipykernel_launcher.py:28: FutureWarning: Method .as_matrix will be removed in a future version. Use .values instead.\n",
      "/Users/milse113/anaconda3/envs/AI/lib/python3.6/site-packages/ipykernel_launcher.py:29: FutureWarning: Method .as_matrix will be removed in a future version. Use .values instead.\n",
      "/Users/milse113/anaconda3/envs/AI/lib/python3.6/site-packages/sklearn/utils/validation.py:475: DataConversionWarning: Data with input dtype object was converted to float64 by MinMaxScaler.\n",
      "  warnings.warn(msg, DataConversionWarning)\n"
     ]
    },
    {
     "name": "stdout",
     "output_type": "stream",
     "text": [
      "INFO:tensorflow:Restoring parameters from ./Models/saved_model.ckpy\n",
      "The actual house price of House_1 was $\n",
      "[[396897.]\n",
      " [793799.]\n",
      " [447302.]\n",
      " [139857.]\n",
      " [214198.]]\n",
      "Our neural network predicted prices of $\n",
      "[[385902.4  ]\n",
      " [816438.94 ]\n",
      " [373526.44 ]\n",
      " [ 55517.203]\n",
      " [ 69143.18 ]]\n"
     ]
    }
   ],
   "source": [
    "import pandas as pd\n",
    "import tensorflow as tf\n",
    "from sklearn.preprocessing import MinMaxScaler\n",
    "\n",
    "import pandas as pd\n",
    "import tensorflow as tf\n",
    "from sklearn.model_selection import train_test_split\n",
    "from sklearn.preprocessing import MinMaxScaler\n",
    "import datetime\n",
    "\n",
    "def readData():\n",
    "    \n",
    "    global x_scaled_training, y_scaled_training, x_scaled_testing, y_scaled_testing, x_scaler, y_scaler, x_train, x_test, y_train, y_test\n",
    "    \n",
    "    dataFrame = pd.read_csv(\"house_data.csv\")\n",
    "    \n",
    "    del dataFrame[\"house_number\"]\n",
    "    del dataFrame['street_name']\n",
    "    del dataFrame['unit_number']\n",
    "    del dataFrame['zip_code']\n",
    "\n",
    "    featuresDataFrame = pd.get_dummies(dataFrame, columns=[\"city\", \"garage_type\"])\n",
    "    \n",
    "    del featuresDataFrame['sale_price']\n",
    "    \n",
    "    global x_train, x_test, y_train, y_test\n",
    "    \n",
    "    x=featuresDataFrame.as_matrix()\n",
    "    y=dataFrame[['sale_price']].as_matrix()\n",
    "    \n",
    "    x_scaler = MinMaxScaler(feature_range=(0, 1))\n",
    "    y_scaler = MinMaxScaler(feature_range=(0, 1))\n",
    "    \n",
    "    x_train, x_test, y_train, y_test = train_test_split(x, y, test_size=0.3, random_state=0)\n",
    "    \n",
    "    x_scaled_training = x_scaler.fit_transform(x_train)\n",
    "    y_scaled_training = y_scaler.fit_transform(y_train)\n",
    "    \n",
    "    x_scaled_testing = x_scaler.transform(x_test)\n",
    "    y_scaled_testing = y_scaler.transform(y_test)\n",
    "    \n",
    "\n",
    "def loadModel():\n",
    "    with tf.Session() as session:\n",
    "        saver=tf.train.import_meta_graph('./Models/saved_model.ckpy.meta')\n",
    "        saver.restore(session, tf.train.latest_checkpoint('./Models/'))\n",
    "        \n",
    "        graph=tf.get_default_graph()\n",
    "        \n",
    "        output=graph.get_tensor_by_name(\"output/output:0\")\n",
    "        x= graph.get_tensor_by_name('input/x:0')\n",
    "        \n",
    "         # Now that the neural network is trained, let's use it to make predictions for our test data.\n",
    "        # Pass in the X testing data and run the \"prediciton\" operation\n",
    "        y_predicted_scaled = session.run(output, feed_dict={x: x_scaled_testing})\n",
    "    \n",
    "        # Unscale the data back to it's original units (dollars)\n",
    "        y_predicted = y_scaler.inverse_transform(y_predicted_scaled)\n",
    "    \n",
    "        house_real_pricing = y_test[100:105]\n",
    "        predicted_pricing = y_predicted[100:105]\n",
    "    \n",
    "        print(\"The actual house price of House_1 was $\\n{}\".format(house_real_pricing))\n",
    "        print(\"Our neural network predicted prices of $\\n{}\".format(predicted_pricing))\n",
    "\n",
    "readData()        \n",
    "loadModel()"
   ]
  },
  {
   "cell_type": "code",
   "execution_count": null,
   "metadata": {},
   "outputs": [],
   "source": []
  }
 ],
 "metadata": {
  "kernelspec": {
   "display_name": "AI",
   "language": "python",
   "name": "ai"
  },
  "language_info": {
   "codemirror_mode": {
    "name": "ipython",
    "version": 3
   },
   "file_extension": ".py",
   "mimetype": "text/x-python",
   "name": "python",
   "nbconvert_exporter": "python",
   "pygments_lexer": "ipython3",
   "version": "3.6.6"
  }
 },
 "nbformat": 4,
 "nbformat_minor": 2
}
