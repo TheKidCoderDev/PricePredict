{
 "cells": [
  {
   "cell_type": "code",
   "execution_count": 1,
   "metadata": {},
   "outputs": [],
   "source": [
    "import random"
   ]
  },
  {
   "cell_type": "markdown",
   "metadata": {},
   "source": [
    "# <span style=\"color:red\"> Machine Learning </span> "
   ]
  },
  {
   "cell_type": "code",
   "execution_count": 2,
   "metadata": {},
   "outputs": [],
   "source": [
    "import pandas as pd\n",
    "from sklearn.model_selection import train_test_split\n",
    "from sklearn import ensemble\n",
    "from sklearn.metrics import mean_absolute_error\n",
    "from sklearn.externals import joblib\n",
    "\n",
    "def dataToHTML():\n",
    "    dataFrame = pd.read_csv(\"house_data.csv\")\n",
    "    html=dataFrame[:1000].to_html()\n",
    "    \n",
    "    with open(\"data.html\", \"w\") as outfile:\n",
    "        outfile.write(html)\n"
   ]
  },
  {
   "cell_type": "markdown",
   "metadata": {},
   "source": [
    "* clean data and train model"
   ]
  },
  {
   "cell_type": "code",
   "execution_count": 6,
   "metadata": {},
   "outputs": [
    {
     "name": "stderr",
     "output_type": "stream",
     "text": [
      "/Users/milse113/anaconda3/lib/python3.6/site-packages/ipykernel_launcher.py:16: FutureWarning: Method .as_matrix will be removed in a future version. Use .values instead.\n",
      "  app.launch_new_instance()\n",
      "/Users/milse113/anaconda3/lib/python3.6/site-packages/ipykernel_launcher.py:17: FutureWarning: Method .as_matrix will be removed in a future version. Use .values instead.\n"
     ]
    },
    {
     "name": "stdout",
     "output_type": "stream",
     "text": [
      "The mean absolute error for training data is 48388.11\n",
      "The mean absolute error for testing data is 58685.80\n"
     ]
    }
   ],
   "source": [
    "def train():\n",
    "    dataFrame = pd.read_csv(\"house_data.csv\")\n",
    "    \n",
    "    del dataFrame[\"house_number\"]\n",
    "    del dataFrame['street_name']\n",
    "    del dataFrame['unit_number']\n",
    "    del dataFrame['zip_code']\n",
    "\n",
    "    \n",
    "    featuresDataFrame = pd.get_dummies(dataFrame, columns=[\"city\", \"garage_type\"])\n",
    "    \n",
    "    del featuresDataFrame['sale_price']\n",
    "    \n",
    "    #print(featuresDataFrame)\n",
    "    \n",
    "    x=featuresDataFrame.as_matrix()\n",
    "    y=dataFrame['sale_price'].as_matrix()\n",
    "    \n",
    "    global x_train, x_test, y_train, y_test\n",
    "    x_train, x_test, y_train, y_test = train_test_split(x, y, test_size=0.3, random_state=0)\n",
    "    \n",
    "    global model\n",
    "    model=ensemble.GradientBoostingRegressor(n_estimators=1000, learning_rate=0.1, max_depth=6, min_samples_leaf=9, max_features=0.1, loss='huber')\n",
    "    \n",
    "    model.fit(x_train, y_train)\n",
    "    \n",
    "    joblib.dump(model, 'trained_house_classifier_model.pkl')\n",
    "    \n",
    "def test():\n",
    "    error_train = mean_absolute_error(y_train, model.predict(x_train))\n",
    "    print(\"The mean absolute error for training data is %.2f\" % error_train)\n",
    "    error_test = mean_absolute_error(y_test, model.predict(x_test))\n",
    "    print(\"The mean absolute error for testing data is %.2f\" % error_test)\n",
    "    \n",
    "\n",
    "dataToHTML()\n",
    "train()\n",
    "test()"
   ]
  },
  {
   "cell_type": "code",
   "execution_count": null,
   "metadata": {},
   "outputs": [],
   "source": []
  },
  {
   "cell_type": "code",
   "execution_count": null,
   "metadata": {},
   "outputs": [],
   "source": []
  }
 ],
 "metadata": {
  "kernelspec": {
   "display_name": "Python 3",
   "language": "python",
   "name": "python3"
  },
  "language_info": {
   "codemirror_mode": {
    "name": "ipython",
    "version": 3
   },
   "file_extension": ".py",
   "mimetype": "text/x-python",
   "name": "python",
   "nbconvert_exporter": "python",
   "pygments_lexer": "ipython3",
   "version": "3.6.5"
  }
 },
 "nbformat": 4,
 "nbformat_minor": 2
}
